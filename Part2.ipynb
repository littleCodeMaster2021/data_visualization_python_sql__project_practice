{
 "cells": [
  {
   "cell_type": "markdown",
   "metadata": {},
   "source": [
    "# Project Part 2"
   ]
  },
  {
   "cell_type": "markdown",
   "metadata": {},
   "source": [
    "## Part 2 \n",
    "### Question 1\n",
    "#### 1. How many users completed an exercise in their first month per monthly cohort?\n",
    "##### Create and populate 'users' table and ‘exercises’ table"
   ]
  },
  {
   "cell_type": "code",
   "execution_count": 1,
   "metadata": {},
   "outputs": [
    {
     "name": "stdout",
     "output_type": "stream",
     "text": [
      "users_table data structure:\n",
      "[(1, '2020-01-02'), (2, '2020-01-12'), (3, '2020-01-28'), (4, '2020-02-02'), (5, '2020-03-02'), (6, '2020-01-15'), (7, '2020-02-10'), (8, '2020-02-21')]\n",
      "exercises_table data structure:\n",
      "[(11, 1, '2020-01-22'), (12, 2, '2020-02-02'), (13, 3, '2020-02-15'), (14, 4, '2020-04-23'), (15, 5, '2020-03-31'), (16, 6, '2020-01-31'), (17, 7, '2020-02-20'), (18, 8, '2020-02-25')]\n"
     ]
    }
   ],
   "source": [
    "import sqlite3\n",
    "def create_users_table():\n",
    "    conn = sqlite3.connect('DB.db')\n",
    "    crsr = conn.cursor() \n",
    "    crsr.execute(\"DROP TABLE IF EXISTS users\")\n",
    "    # SQL command to create a table in the database \n",
    "    sql_command = \"\"\"CREATE TABLE users (  \n",
    "    user_id INTEGER PRIMARY KEY,  \n",
    "    created_at DATE);\"\"\"\n",
    "    # execute the statement \n",
    "    crsr.execute(sql_command) \n",
    "    # SQL command to insert the data in the table \n",
    "    sql_command = \"\"\"INSERT INTO users VALUES (1, \"2020-01-02\");\"\"\"\n",
    "    crsr.execute(sql_command) \n",
    "    sql_command = \"\"\"INSERT INTO users VALUES (2, \"2020-01-12\");\"\"\"\n",
    "    crsr.execute(sql_command) \n",
    "    sql_command = \"\"\"INSERT INTO users VALUES (3, \"2020-01-28\");\"\"\"\n",
    "    crsr.execute(sql_command) \n",
    "    sql_command = \"\"\"INSERT INTO users VALUES (4, \"2020-02-02\");\"\"\"\n",
    "    crsr.execute(sql_command) \n",
    "    sql_command = \"\"\"INSERT INTO users VALUES (5, \"2020-03-02\");\"\"\"\n",
    "    crsr.execute(sql_command)\n",
    "    sql_command = \"\"\"INSERT INTO users VALUES (6, \"2020-01-15\");\"\"\"\n",
    "    crsr.execute(sql_command) \n",
    "    sql_command = \"\"\"INSERT INTO users VALUES (7, \"2020-02-10\");\"\"\"\n",
    "    crsr.execute(sql_command) \n",
    "    sql_command = \"\"\"INSERT INTO users VALUES (8, \"2020-02-21\");\"\"\"\n",
    "    crsr.execute(sql_command) \n",
    "    # And this is the named style: \n",
    "    print(\"users_table data structure:\")\n",
    "    crsr.execute(\"select * from users\") \n",
    "    # Fetches all entries from table \n",
    "    print(crsr.fetchall())\n",
    "    # To save the changes in the files. Never skip this.  \n",
    "    # If we skip this, nothing will be saved in the database. \n",
    "    conn.commit() \n",
    "    # close the connection \n",
    "    conn.close() \n",
    "    \n",
    "def create_exercises_table():\n",
    "    conn = sqlite3.connect('NeuroFlowDB.db')\n",
    "    crsr = conn.cursor() \n",
    "    # SQL command to create a table in the database \n",
    "    crsr.execute(\"DROP TABLE IF EXISTS exercises\")\n",
    "    sql_command = \"\"\"CREATE TABLE exercises (  \n",
    "    exercise_id INTEGER PRIMARY KEY,\n",
    "    user_id INTEGER,\n",
    "    exercise_completion_date DATE,\n",
    "    FOREIGN KEY(user_id) REFERENCES users(user_id));\"\"\"\n",
    "    # execute the statement \n",
    "    crsr.execute(sql_command) \n",
    "    # SQL command to insert the data in the table \n",
    "    crsr.execute(\"\"\"INSERT INTO exercises VALUES (11, 1,\"2020-01-22\");\"\"\") \n",
    "    crsr.execute(\"\"\"INSERT INTO exercises VALUES (12, 2,\"2020-02-02\");\"\"\") \n",
    "    crsr.execute(\"\"\"INSERT INTO exercises VALUES (13, 3,\"2020-02-15\");\"\"\") \n",
    "    crsr.execute(\"\"\"INSERT INTO exercises VALUES (14, 4,\"2020-04-23\");\"\"\") \n",
    "    crsr.execute(\"\"\"INSERT INTO exercises VALUES (15, 5,\"2020-03-31\");\"\"\") \n",
    "    crsr.execute(\"\"\"INSERT INTO exercises VALUES (16, 6,\"2020-01-31\");\"\"\") \n",
    "    crsr.execute(\"\"\"INSERT INTO exercises VALUES (17, 7,\"2020-02-20\");\"\"\") \n",
    "    crsr.execute(\"\"\"INSERT INTO exercises VALUES (18, 8,\"2020-02-25\");\"\"\") \n",
    "    # And this is the named style: \n",
    "    crsr.execute(\"select * from exercises\") \n",
    "    # Fetches all entries from table \n",
    "    print(\"exercises_table data structure:\")\n",
    "    print(crsr.fetchall())\n",
    "    # To save the changes in the files. Never skip this.  \n",
    "    # If we skip this, nothing will be saved in the database. \n",
    "    conn.commit() \n",
    "    # close the connection \n",
    "    conn.close() \n",
    "create_users_table()\n",
    "create_exercises_table()"
   ]
  },
  {
   "cell_type": "markdown",
   "metadata": {},
   "source": [
    "##### determines the percentage of users that have a completed exercise in their first month for each monthly cohort"
   ]
  },
  {
   "cell_type": "code",
   "execution_count": 2,
   "metadata": {},
   "outputs": [
    {
     "name": "stdout",
     "output_type": "stream",
     "text": [
      "The 2020/01 cohort has 50.0% of users completing an exercise in their first month.\n",
      "The 2020/02 cohort has 66.66666666666666% of users completing an exercise in their first month.\n",
      "The 2020/03 cohort has 100.0% of users completing an exercise in their first month.\n"
     ]
    }
   ],
   "source": [
    "def query_user_completion():\n",
    "    conn = sqlite3.connect('NeuroFlowDB.db')\n",
    "    crsr = conn.cursor()\n",
    "    sql = \"\"\"\n",
    "    SELECT totalTab.TMONTH, (resultTab.size*1.0/totalTab.totalsize)*100 AS \"% Comm.\"\\\n",
    "    FROM (SELECT count(users.user_id) TOTALSIZE, \\\n",
    "    strftime('%m', date(created_at)) TMONTH \\\n",
    "    FROM users GROUP BY strftime('%m', date(created_at))) AS totalTab,\\\n",
    "    (SELECT count(users.user_id) SIZE, strftime('%m', date(exercise_completion_date)) RMONTH\\\n",
    "    FROM users INNER JOIN exercises ON users.user_id = exercises.user_id \\\n",
    "    WHERE strftime('%m', date(exercise_completion_date)) = strftime('%m', date(created_at))\\\n",
    "    GROUP BY strftime('%m', date(exercise_completion_date))) AS resultTab\\\n",
    "    WHERE totalTab.TMONTH = resultTab.RMONTH\\\n",
    "    GROUP BY totalTab.TMONTH;\n",
    "    \"\"\"\n",
    "    crsr.execute(sql)\n",
    "    myresult = crsr.fetchall()\n",
    "    for x in myresult:\n",
    "        print('The 2020/'+ x[0]+' cohort has '+ str(x[1])+'% of users completing an exercise in their first month.')\n",
    "    # close the connection \n",
    "    conn.close() \n",
    "    # SQL command to create a table in the database \n",
    "query_user_completion()"
   ]
  },
  {
   "cell_type": "markdown",
   "metadata": {},
   "source": [
    "### Question 2\n",
    "#### 2. Which organizations have the most severe patient population?\n",
    "##### Create and populate ‘Providers’ table and ‘Phq9’ table"
   ]
  },
  {
   "cell_type": "code",
   "execution_count": 3,
   "metadata": {},
   "outputs": [
    {
     "name": "stdout",
     "output_type": "stream",
     "text": [
      "Providers_table data structure:\n",
      "[(1, 11, 'Org1'), (2, 11, 'Org1'), (3, 12, 'Org2'), (4, 12, 'Org2'), (5, 13, 'Org3'), (6, 13, 'Org3'), (7, 14, 'Org4'), (8, 14, 'Org4'), (9, 15, 'Org5'), (10, 15, 'Org5'), (11, 16, 'Org6'), (12, 16, 'Org6'), (13, 17, 'Org7'), (14, 17, 'Org7'), (15, 18, 'Org8'), (16, 18, 'Org8')]\n",
      "Phq9_table() data structure:\n",
      "[(11, 1, '2020-01-22'), (12, 2, '2020-02-02'), (13, 3, '2020-02-15'), (14, 4, '2020-04-23'), (15, 5, '2020-03-31'), (16, 6, '2020-01-31'), (17, 7, '2020-02-20'), (18, 8, '2020-02-25')]\n"
     ]
    }
   ],
   "source": [
    "def create_Providers_table():\n",
    "    conn = sqlite3.connect('NeuroFlowDB.db')\n",
    "    crsr = conn.cursor() \n",
    "    crsr.execute(\"DROP TABLE IF EXISTS Providers\")\n",
    "    # SQL command to create a table in the database \n",
    "    sql_command = \"\"\"CREATE TABLE Providers (  \n",
    "    provider_id INTEGER PRIMARY KEY,  \n",
    "    organization_id INTEGER,\n",
    "    organization_name VARCHAR(50));\"\"\"\n",
    "    # execute the statement \n",
    "    crsr.execute(sql_command) \n",
    "    # SQL command to insert the data in the table \n",
    "    sql_command = \"\"\"INSERT INTO Providers VALUES (1, 11, 'Org1');\"\"\"\n",
    "    crsr.execute(sql_command) \n",
    "    sql_command = \"\"\"INSERT INTO Providers VALUES (2, 11, 'Org1');\"\"\"\n",
    "    crsr.execute(sql_command) \n",
    "    sql_command = \"\"\"INSERT INTO Providers VALUES (3, 12, 'Org2');\"\"\"\n",
    "    crsr.execute(sql_command) \n",
    "    sql_command = \"\"\"INSERT INTO Providers VALUES (4, 12, 'Org2');\"\"\"\n",
    "    crsr.execute(sql_command) \n",
    "    sql_command = \"\"\"INSERT INTO Providers VALUES (5, 13, 'Org3');\"\"\"\n",
    "    crsr.execute(sql_command)\n",
    "    sql_command = \"\"\"INSERT INTO Providers VALUES (6, 13, 'Org3');\"\"\"\n",
    "    crsr.execute(sql_command) \n",
    "    sql_command = \"\"\"INSERT INTO Providers VALUES (7, 14, 'Org4');\"\"\"\n",
    "    crsr.execute(sql_command) \n",
    "    sql_command = \"\"\"INSERT INTO Providers VALUES (8, 14, 'Org4');\"\"\"\n",
    "    crsr.execute(sql_command) \n",
    "    sql_command = \"\"\"INSERT INTO Providers VALUES (9, 15, 'Org5');\"\"\"\n",
    "    crsr.execute(sql_command) \n",
    "    sql_command = \"\"\"INSERT INTO Providers VALUES (10, 15, 'Org5');\"\"\"\n",
    "    crsr.execute(sql_command) \n",
    "    sql_command = \"\"\"INSERT INTO Providers VALUES (11, 16, 'Org6');\"\"\"\n",
    "    crsr.execute(sql_command) \n",
    "    sql_command = \"\"\"INSERT INTO Providers VALUES (12, 16, 'Org6');\"\"\"\n",
    "    crsr.execute(sql_command) \n",
    "    sql_command = \"\"\"INSERT INTO Providers VALUES (13, 17, 'Org7');\"\"\"\n",
    "    crsr.execute(sql_command)\n",
    "    sql_command = \"\"\"INSERT INTO Providers VALUES (14, 17, 'Org7');\"\"\"\n",
    "    crsr.execute(sql_command) \n",
    "    sql_command = \"\"\"INSERT INTO Providers VALUES (15, 18, 'Org8');\"\"\"\n",
    "    crsr.execute(sql_command) \n",
    "    sql_command = \"\"\"INSERT INTO Providers VALUES (16, 18, 'Org8');\"\"\"\n",
    "    crsr.execute(sql_command) \n",
    "    # And this is the named style: \n",
    "    print(\"Providers_table data structure:\")\n",
    "    crsr.execute(\"select * from Providers\") \n",
    "    # Fetches all entries from table \n",
    "    print(crsr.fetchall())\n",
    "    # To save the changes in the files. Never skip this.  \n",
    "    # If we skip this, nothing will be saved in the database. \n",
    "    conn.commit() \n",
    "    # close the connection \n",
    "    conn.close() \n",
    "    \n",
    "def create_Phq9_table():\n",
    "    conn = sqlite3.connect('NeuroFlowDB.db')\n",
    "    crsr = conn.cursor() \n",
    "    # SQL command to create a table in the database \n",
    "    crsr.execute(\"DROP TABLE IF EXISTS Phq9\")\n",
    "    sql_command = \"\"\"CREATE TABLE Phq9 (  \n",
    "    patient_id INTEGER PRIMARY KEY,\n",
    "    provider_id INTEGER,\n",
    "    score INTEGER,\n",
    "    datetime_created DATE,\n",
    "    FOREIGN KEY(provider_id) REFERENCES Providers(provider_id));\"\"\"\n",
    "    # execute the statement \n",
    "    crsr.execute(sql_command) \n",
    "    # SQL command to insert the data in the table \n",
    "    crsr.execute(\"\"\"INSERT INTO Phq9 VALUES (21, 1, 10,\"2020-01-22\");\"\"\") \n",
    "    crsr.execute(\"\"\"INSERT INTO Phq9 VALUES (22, 2, 0,\"2020-02-02\");\"\"\") \n",
    "    crsr.execute(\"\"\"INSERT INTO Phq9 VALUES (23, 3, 21,\"2020-02-15\");\"\"\") \n",
    "    crsr.execute(\"\"\"INSERT INTO Phq9 VALUES (24, 4, 14,\"2020-04-23\");\"\"\") \n",
    "    crsr.execute(\"\"\"INSERT INTO Phq9 VALUES (25, 5, 9,\"2020-03-31\");\"\"\") \n",
    "    crsr.execute(\"\"\"INSERT INTO Phq9 VALUES (26, 6, 8, \"2020-01-31\");\"\"\") \n",
    "    crsr.execute(\"\"\"INSERT INTO Phq9 VALUES (27, 7, 26,\"2020-02-20\");\"\"\") \n",
    "    crsr.execute(\"\"\"INSERT INTO Phq9 VALUES (28, 8, 22, \"2020-02-25\");\"\"\") \n",
    "    crsr.execute(\"\"\"INSERT INTO Phq9 VALUES (29, 9, 7,\"2020-01-22\");\"\"\") \n",
    "    crsr.execute(\"\"\"INSERT INTO Phq9 VALUES (30, 10, 16,\"2020-02-02\");\"\"\") \n",
    "    crsr.execute(\"\"\"INSERT INTO Phq9 VALUES (31, 11, 14,\"2020-02-15\");\"\"\") \n",
    "    crsr.execute(\"\"\"INSERT INTO Phq9 VALUES (32, 12, 21,\"2020-04-23\");\"\"\") \n",
    "    crsr.execute(\"\"\"INSERT INTO Phq9 VALUES (33, 13, 12,\"2020-03-31\");\"\"\") \n",
    "    crsr.execute(\"\"\"INSERT INTO Phq9 VALUES (34, 14, 23, \"2020-01-31\");\"\"\") \n",
    "    crsr.execute(\"\"\"INSERT INTO Phq9 VALUES (35, 15, 19,\"2020-02-20\");\"\"\") \n",
    "    crsr.execute(\"\"\"INSERT INTO Phq9 VALUES (36, 16, 17, \"2020-02-25\");\"\"\") \n",
    "    # And this is the named style: \n",
    "    crsr.execute(\"select * from exercises\") \n",
    "    # Fetches all entries from table \n",
    "    print(\"Phq9_table() data structure:\")\n",
    "    print(crsr.fetchall())\n",
    "    # To save the changes in the files. Never skip this.  \n",
    "    # If we skip this, nothing will be saved in the database. \n",
    "    conn.commit() \n",
    "    # close the connection \n",
    "    conn.close() \n",
    "create_Providers_table()\n",
    "create_Phq9_table()"
   ]
  },
  {
   "cell_type": "markdown",
   "metadata": {},
   "source": [
    "#### Write a single query that finds the top five organizations that have the highest average phq9 score per patient."
   ]
  },
  {
   "cell_type": "code",
   "execution_count": 4,
   "metadata": {},
   "outputs": [
    {
     "name": "stdout",
     "output_type": "stream",
     "text": [
      "Top 1 organization that has the highest average phq9 score is: Org4 with: 24.0 score ,its isSevere? status is: True\n",
      "Top 2 organization that has the highest average phq9 score is: Org8 with: 18.0 score ,its isSevere? status is: False\n",
      "Top 3 organization that has the highest average phq9 score is: Org2 with: 17.5 score ,its isSevere? status is: False\n",
      "Top 4 organization that has the highest average phq9 score is: Org6 with: 17.5 score ,its isSevere? status is: False\n",
      "Top 5 organization that has the highest average phq9 score is: Org7 with: 17.5 score ,its isSevere? status is: False\n"
     ]
    }
   ],
   "source": [
    "def query_patient_score():\n",
    "    conn = sqlite3.connect('NeuroFlowDB.db')\n",
    "    crsr = conn.cursor()\n",
    "    sql = \"\"\"\n",
    "    SELECT organization_name, AVG(score) AVGSCORE,\\\n",
    "    CASE WHEN AVG(score) >= 20 THEN 'True' ELSE 'False' END AS IsSevere\\\n",
    "    FROM Providers INNER JOIN Phq9 ON Providers.provider_id = Phq9.provider_id\\\n",
    "    GROUP BY organization_id\\\n",
    "    ORDER BY AVGSCORE DESC\\\n",
    "    LIMIT 5;\n",
    "    \"\"\"\n",
    "    crsr.execute(sql)\n",
    "    myresult = crsr.fetchall()\n",
    "    for x in range(len(myresult)):\n",
    "        print('Top '+ str(x+1) +' organization that has the highest average phq9 score is: ' +  myresult[x][0]\n",
    "              +' with: ' + str(myresult[x][1]) + ' score '+ ',its isSevere? status is: '+ myresult[x][2])\n",
    "    # close the connection \n",
    "    conn.close() \n",
    "    # SQL command to create a table in the database \n",
    "query_patient_score()"
   ]
  },
  {
   "cell_type": "code",
   "execution_count": null,
   "metadata": {},
   "outputs": [],
   "source": []
  },
  {
   "cell_type": "code",
   "execution_count": null,
   "metadata": {},
   "outputs": [],
   "source": []
  }
 ],
 "metadata": {
  "kernelspec": {
   "display_name": "Python 3",
   "language": "python",
   "name": "python3"
  },
  "language_info": {
   "codemirror_mode": {
    "name": "ipython",
    "version": 3
   },
   "file_extension": ".py",
   "mimetype": "text/x-python",
   "name": "python",
   "nbconvert_exporter": "python",
   "pygments_lexer": "ipython3",
   "version": "3.7.1"
  }
 },
 "nbformat": 4,
 "nbformat_minor": 2
}
